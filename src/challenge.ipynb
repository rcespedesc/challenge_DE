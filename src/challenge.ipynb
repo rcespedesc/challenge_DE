{
 "cells": [
  {
   "cell_type": "markdown",
   "metadata": {},
   "source": [
    "En este archivo puedes escribir lo que estimes conveniente. Te recomendamos detallar tu solución y todas las suposiciones que estás considerando. Aquí puedes ejecutar las funciones que definiste en los otros archivos de la carpeta src, medir el tiempo, memoria, etc."
   ]
  },
  {
   "cell_type": "code",
   "execution_count": 1,
   "metadata": {},
   "outputs": [],
   "source": [
    "import time\n",
    "from q1_memory import q1_memory\n",
    "from q1_time import q1_time\n",
    "from q2_memory import q2_memory\n",
    "from q2_time import q2_time\n",
    "from q3_memory import q3_memory\n",
    "from q3_time import q3_time\n"
   ]
  },
  {
   "cell_type": "code",
   "execution_count": 2,
   "metadata": {},
   "outputs": [],
   "source": [
    "file_path = \"../farmers-protest-tweets-2021-2-4.json\""
   ]
  },
  {
   "cell_type": "markdown",
   "metadata": {},
   "source": [
    "Decorador @profile: Este decorador de memory_profiler se utiliza para medir el uso de memoria de la función.\n",
    "Medición del Tiempo: Utilizamos time.time() para medir el tiempo de inicio y final de la ejecución de la función."
   ]
  },
  {
   "cell_type": "code",
   "execution_count": 3,
   "metadata": {},
   "outputs": [
    {
     "name": "stdout",
     "output_type": "stream",
     "text": [
      "Filename: /Users/bob/Documents/Learning/challenge_DE/src/q1_memory.py\n",
      "\n",
      "Line #    Mem usage    Increment  Occurrences   Line Contents\n",
      "=============================================================\n",
      "     9    135.4 MiB    135.4 MiB           1   @profile\n",
      "    10                                         def q1_memory(file_path: str) -> List[Tuple[datetime.date, str]]:\n",
      "    11                                             \n",
      "    12    135.4 MiB      0.0 MiB           1       date_counts = Counter()\n",
      "    13    138.5 MiB      0.0 MiB          27       user_counts = defaultdict(lambda: defaultdict(int))\n",
      "    14                                             \n",
      "    15    139.0 MiB      0.0 MiB           2       with open(file_path, 'r') as file:\n",
      "    16    139.0 MiB      0.3 MiB      117408           for line in file:\n",
      "    17    139.0 MiB      3.2 MiB      117407               tweet = json.loads(line)\n",
      "    18    139.0 MiB      0.0 MiB      117407               date_only = datetime.strptime(tweet['date'], '%Y-%m-%dT%H:%M:%S%z').date()\n",
      "    19    139.0 MiB      0.0 MiB      117407               username = tweet['user']['username']\n",
      "    20                                                     \n",
      "    21    139.0 MiB      0.0 MiB      117407               date_counts[date_only] += 1\n",
      "    22    139.0 MiB      0.1 MiB      117407               user_counts[date_only][username] += 1\n",
      "    23                                             \n",
      "    24    139.0 MiB      0.0 MiB           1       top_dates = date_counts.most_common(10)\n",
      "    25                                             \n",
      "    26    139.0 MiB      0.0 MiB           1       result = []\n",
      "    27    139.0 MiB      0.0 MiB          11       for date, _ in top_dates:\n",
      "    28    139.0 MiB      0.0 MiB          10           top_user = max(user_counts[date], key=user_counts[date].get)\n",
      "    29    139.0 MiB      0.0 MiB          10           result.append((date, top_user))\n",
      "    30                                             \n",
      "    31    139.0 MiB      0.0 MiB           1       return result\n",
      "\n",
      "\n",
      "Execution Time: 15.479286909103394 seconds\n"
     ]
    }
   ],
   "source": [
    "start_time = time.time()\n",
    "q1_memory(file_path)\n",
    "end_time = time.time()\n",
    "\n",
    "print(f\"Execution Time: {end_time - start_time} seconds\")"
   ]
  },
  {
   "cell_type": "markdown",
   "metadata": {},
   "source": [
    "Procesamos el archivo línea por línea para minimizar el uso de memoria.\n",
    "Utilice Contador para contar las fechas y un dictamen predeterminado anidado para el recuento de usuarios."
   ]
  },
  {
   "cell_type": "code",
   "execution_count": 4,
   "metadata": {},
   "outputs": [
    {
     "name": "stdout",
     "output_type": "stream",
     "text": [
      "Filename: /Users/bob/Documents/Learning/challenge_DE/src/q1_time.py\n",
      "\n",
      "Line #    Mem usage    Increment  Occurrences   Line Contents\n",
      "=============================================================\n",
      "     7    139.0 MiB    139.0 MiB           1   @profile\n",
      "     8                                         def q1_time(file_path: str) -> List[Tuple[datetime.date, str]]:\n",
      "     9                                         \n",
      "    10    139.0 MiB      0.0 MiB           1       data = []\n",
      "    11   1200.5 MiB      0.0 MiB           2       with open(file_path, 'r') as file:\n",
      "    12   1200.5 MiB     37.1 MiB      117408           for line in file:\n",
      "    13   1200.5 MiB   1024.3 MiB      117407               data.append(json.loads(line))\n",
      "    14                                         \n",
      "    15   1779.1 MiB    578.6 MiB           1       df = pd.json_normalize(data)\n",
      "    16                                             \n",
      "    17   1780.3 MiB      1.2 MiB           1       df['date_only'] = pd.to_datetime(df['date']).dt.date\n",
      "    18                                             \n",
      "    19   1780.6 MiB      0.3 MiB           1       top_dates = df['date_only'].value_counts().nlargest(10).index\n",
      "    20                                             \n",
      "    21   1780.6 MiB      0.0 MiB           1       result = []\n",
      "    22   1804.5 MiB      0.0 MiB          11       for date in top_dates:\n",
      "    23   1804.5 MiB     23.8 MiB          10           date_df = df[df['date_only'] == date]\n",
      "    24   1804.5 MiB      0.0 MiB          10           top_user = date_df['user.username'].value_counts().idxmax()\n",
      "    25   1804.5 MiB      0.0 MiB          10           result.append((date,  top_user))\n",
      "    26                                             \n",
      "    27   1804.5 MiB      0.0 MiB           1       return result\n",
      "\n",
      "\n",
      "Execution Time: 15.952575922012329 seconds\n"
     ]
    }
   ],
   "source": [
    "start_time = time.time()\n",
    "q1_time(file_path)\n",
    "end_time = time.time()\n",
    "\n",
    "print(f\"Execution Time: {end_time - start_time} seconds\")"
   ]
  },
  {
   "cell_type": "markdown",
   "metadata": {},
   "source": [
    "Cargamos el archivo JSON completo en la memoria.\n",
    "Utilice pandas para manipular los datos de manera eficiente.\n",
    "Extraiga la parte de la fecha y cuente las ocurrencias.\n",
    "Identifique el usuario principal para cada fecha principal utilizando value_counts."
   ]
  },
  {
   "cell_type": "markdown",
   "metadata": {},
   "source": [
    "Q2"
   ]
  },
  {
   "cell_type": "code",
   "execution_count": 3,
   "metadata": {},
   "outputs": [
    {
     "name": "stdout",
     "output_type": "stream",
     "text": [
      "Execution Time: 21.292017936706543 seconds\n"
     ]
    }
   ],
   "source": [
    "start_time = time.time()\n",
    "q2_time(file_path)\n",
    "end_time = time.time()\n",
    "\n",
    "print(f\"Execution Time: {end_time - start_time} seconds\")"
   ]
  },
  {
   "cell_type": "code",
   "execution_count": 4,
   "metadata": {},
   "outputs": [
    {
     "name": "stdout",
     "output_type": "stream",
     "text": [
      "Filename: /Users/bob/Documents/Learning/challenge_DE/src/q2_memory.py\n",
      "\n",
      "Line #    Mem usage    Increment  Occurrences   Line Contents\n",
      "=============================================================\n",
      "     7    749.7 MiB    749.7 MiB           1   @profile\n",
      "     8                                         def q2_memory(file_path: str) -> List[Tuple[str, int]]:\n",
      "     9    749.7 MiB      0.0 MiB           1       emoji_counts = Counter()\n",
      "    10                                             \n",
      "    11                                             # Process the JSON file line by line\n",
      "    12    749.7 MiB      0.0 MiB           2       with open(file_path, 'r') as file:\n",
      "    13    749.7 MiB      0.0 MiB      117408           for line in file:\n",
      "    14    749.7 MiB      0.0 MiB      117407               tweet = json.loads(line)\n",
      "    15    749.7 MiB      0.0 MiB      117407               content = tweet['content']\n",
      "    16    749.7 MiB      0.0 MiB    17386304               emojis_in_content = [char for char in content if char in emoji.UNICODE_EMOJI_ENGLISH]\n",
      "    17    749.7 MiB      0.0 MiB      117407               emoji_counts.update(emojis_in_content)\n",
      "    18                                             \n",
      "    19                                             # Get the top 10 most common emojis\n",
      "    20    749.7 MiB      0.0 MiB           1       top_emojis = emoji_counts.most_common(10)\n",
      "    21                                             \n",
      "    22    749.7 MiB      0.0 MiB           1       return top_emojis\n",
      "\n",
      "\n",
      "Execution Time: 216.71082997322083 seconds\n"
     ]
    }
   ],
   "source": [
    "start_time = time.time()\n",
    "q2_memory(file_path)\n",
    "end_time = time.time()\n",
    "\n",
    "print(f\"Execution Time: {end_time - start_time} seconds\")"
   ]
  },
  {
   "cell_type": "markdown",
   "metadata": {},
   "source": [
    "Q3"
   ]
  },
  {
   "cell_type": "code",
   "execution_count": 3,
   "metadata": {},
   "outputs": [
    {
     "name": "stdout",
     "output_type": "stream",
     "text": [
      "Execution Time: 4.941904783248901 seconds\n"
     ]
    }
   ],
   "source": [
    "start_time = time.time()\n",
    "q3_time(file_path)\n",
    "end_time = time.time()\n",
    "\n",
    "print(f\"Execution Time: {end_time - start_time} seconds\")"
   ]
  },
  {
   "cell_type": "code",
   "execution_count": 3,
   "metadata": {},
   "outputs": [
    {
     "name": "stdout",
     "output_type": "stream",
     "text": [
      "Filename: /Users/bob/Documents/Learning/challenge_DE/src/q3_memory.py\n",
      "\n",
      "Line #    Mem usage    Increment  Occurrences   Line Contents\n",
      "=============================================================\n",
      "     6    140.9 MiB    140.9 MiB           1   @profile\n",
      "     7                                         def q3_memory(file_path: str) -> List[Tuple[str, int]]:\n",
      "     8                                         \n",
      "     9    140.9 MiB      0.0 MiB           1       mention_counts = Counter()\n",
      "    10                                             \n",
      "    11                                             # Process the JSON file line by line\n",
      "    12    142.3 MiB      0.0 MiB           2       with open(file_path, 'r') as file:\n",
      "    13    142.3 MiB      0.4 MiB      117408           for line in file:\n",
      "    14    142.3 MiB      1.0 MiB      117407               tweet = json.loads(line)\n",
      "    15    142.3 MiB      0.0 MiB      117407               mentioned_users = tweet.get('mentionedUsers', [])\n",
      "    16    142.3 MiB      0.0 MiB      117407               if mentioned_users is not None:\n",
      "    17    142.3 MiB      0.0 MiB      141437                   for user in mentioned_users:\n",
      "    18    142.3 MiB      0.0 MiB      103403                       mention_counts[user['username']] += 1\n",
      "    19                                             \n",
      "    20                                             # Get the top 10 most mentioned users\n",
      "    21    142.3 MiB      0.0 MiB           1       top_mentions = mention_counts.most_common(10)\n",
      "    22                                             \n",
      "    23                                             # Return as a list of tuples (user, count)\n",
      "    24    142.3 MiB      0.0 MiB           1       return top_mentions\n",
      "\n",
      "\n",
      "Execution Time: 8.513069868087769 seconds\n"
     ]
    }
   ],
   "source": [
    "start_time = time.time()\n",
    "q3_memory(file_path)\n",
    "end_time = time.time()\n",
    "\n",
    "print(f\"Execution Time: {end_time - start_time} seconds\")"
   ]
  }
 ],
 "metadata": {
  "kernelspec": {
   "display_name": "mlops",
   "language": "python",
   "name": "python3"
  },
  "language_info": {
   "codemirror_mode": {
    "name": "ipython",
    "version": 3
   },
   "file_extension": ".py",
   "mimetype": "text/x-python",
   "name": "python",
   "nbconvert_exporter": "python",
   "pygments_lexer": "ipython3",
   "version": "3.11.9"
  },
  "orig_nbformat": 4
 },
 "nbformat": 4,
 "nbformat_minor": 2
}
